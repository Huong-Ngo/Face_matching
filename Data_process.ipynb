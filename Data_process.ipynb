{
 "cells": [
  {
   "cell_type": "code",
   "execution_count": 1,
   "metadata": {},
   "outputs": [],
   "source": [
    "from train_arcface import train_arcface\n",
    "from src.utils.model import get_triplet_model, freeze_layer\n",
    "from src.model.arcface import KSubArcFace, ArcFace_org\n",
    "import torch\n",
    "from train_triplet import train_triplet\n",
    "from train_arc_triplet import train_arc_triplet"
   ]
  },
  {
   "cell_type": "code",
   "execution_count": 2,
   "metadata": {},
   "outputs": [],
   "source": [
    "WEIGHT_PATH = 'weight/backbone_r100_glint360k.pt'\n",
    "TRAIN_PATH = \"Data/Data_train\" \n",
    "TEST_PATH = \"Data/Data_test\"\n",
    "EPOCHS = 1000\n",
    "BATCH__SIZE = 16\n",
    "\n",
    "# FINETUNE_PATH = 'weight/model_finetune_arcface_org_best.pth'\n",
    "# ARCFACE_PATH = 'weight/arcface_org_weight_best.pth'"
   ]
  },
  {
   "cell_type": "code",
   "execution_count": null,
   "metadata": {},
   "outputs": [],
   "source": [
    "model = get_triplet_model(weight_path= WEIGHT_PATH)\n",
    "# model.backbone.load_state_dict(torch.load(FINETUNE_PATH, map_location = 'cpu')['model_state_dict'])\n",
    "\n",
    "arcface = ArcFace_org(in_features = 512, out_features = 670)\n",
    "# arcface.load_state_dict(torch.load(ARCFACE_PATH, map_location = 'cpu')['model_state_dict'])\n",
    "\n",
    "\n",
    "train_arc_triplet(model, arcface, TRAIN_PATH, TEST_PATH, EPOCHS, BATCH__SIZE, roc_fig_path='result/arcface_loss_1000+200_epoches.jpg' )"
   ]
  },
  {
   "cell_type": "code",
   "execution_count": null,
   "metadata": {},
   "outputs": [],
   "source": [
    "a,p,n,_,_,_ = model()"
   ]
  },
  {
   "cell_type": "code",
   "execution_count": null,
   "metadata": {},
   "outputs": [],
   "source": [
    "# model = get_triplet_model(weight_path= WEIGHT_PATH)\n",
    "# freeze_layer(model, ['253', '254'])\n",
    "# train_triplet(model, TRAIN_PATH, TEST_PATH, EPOCHS, BATCH__SIZE, roc_fig_path='result/finetune_triplet_loss.jpg')"
   ]
  }
 ],
 "metadata": {
  "kernelspec": {
   "display_name": "Python 3",
   "language": "python",
   "name": "python3"
  },
  "language_info": {
   "codemirror_mode": {
    "name": "ipython",
    "version": 3
   },
   "file_extension": ".py",
   "mimetype": "text/x-python",
   "name": "python",
   "nbconvert_exporter": "python",
   "pygments_lexer": "ipython3",
   "version": "3.11.3"
  },
  "orig_nbformat": 4
 },
 "nbformat": 4,
 "nbformat_minor": 2
}
